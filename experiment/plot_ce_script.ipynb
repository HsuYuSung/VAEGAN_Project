{
 "cells": [
  {
   "cell_type": "code",
   "execution_count": 9,
   "metadata": {},
   "outputs": [
    {
     "name": "stdout",
     "output_type": "stream",
     "text": [
      "Number of overlapping classes between train and val: 0\n",
      "Number of overlapping classes between trainval and test: 0\n",
      "(2048, 23527)\n",
      "[0.26940984 0.41718087 0.47071343 ... 0.5145953  0.31918221 0.36623027]\n",
      "[0.5193666  0.68180684 0.73464046 ... 0.90568093 0.64003545 0.61074552]\n",
      "(40,)\n",
      "(40,)\n",
      "(85, 40)\n",
      "ce_mean: 0.07030499164708981\n",
      "std_mean: 0.08242615770453754\n"
     ]
    }
   ],
   "source": [
    "!python plot_ce.py --dataset AWA2 --dataset_path \"tf_mat/\""
   ]
  },
  {
   "cell_type": "code",
   "execution_count": 10,
   "metadata": {},
   "outputs": [
    {
     "name": "stdout",
     "output_type": "stream",
     "text": [
      "Number of overlapping classes between train and val: 0\n",
      "Number of overlapping classes between trainval and test: 0\n",
      "(2048, 7057)\n",
      "[0.25873887 0.33668512 0.29599173 ... 0.36262064 0.35124807 0.37916562]\n",
      "[0.49599528 0.58565554 0.5682012  ... 0.64984893 0.65425055 0.67338118]\n",
      "(150,)\n",
      "(150,)\n",
      "(312, 150)\n",
      "ce_mean: 0.027817933642917\n",
      "std_mean: 0.049169465859243026\n"
     ]
    }
   ],
   "source": [
    "!python plot_ce.py --dataset CUB --dataset_path \"tf_mat/\""
   ]
  },
  {
   "cell_type": "code",
   "execution_count": 11,
   "metadata": {},
   "outputs": [
    {
     "name": "stdout",
     "output_type": "stream",
     "text": [
      "Number of overlapping classes between train and val: 0\n",
      "Number of overlapping classes between trainval and test: 0\n",
      "(2048, 10320)\n",
      "[0.41061595 0.46135019 0.49164276 ... 0.60885372 0.40666601 0.51603189]\n",
      "[0.86502257 0.8241114  0.97399346 ... 0.79355724 0.74673315 0.90884199]\n",
      "(645,)\n",
      "(645,)\n",
      "(102, 645)\n",
      "ce_mean: 0.045098157787035034\n",
      "std_mean: 0.08796699263372594\n"
     ]
    }
   ],
   "source": [
    "!python plot_ce.py --dataset SUN --dataset_path \"tf_mat/\""
   ]
  },
  {
   "cell_type": "code",
   "execution_count": 12,
   "metadata": {},
   "outputs": [
    {
     "name": "stdout",
     "output_type": "stream",
     "text": [
      "Number of overlapping classes between train and val: 0\n",
      "Number of overlapping classes between trainval and test: 0\n",
      "(2048, 24264)\n",
      "[0.5435739  0.41549188 0.4000429  ... 0.4269312  0.51282805 0.30850548]\n",
      "[0.7874014  0.86905915 0.7724389  ... 0.8076782  0.85406226 0.6019507 ]\n",
      "(40,)\n",
      "(40,)\n",
      "(85, 40)\n",
      "ce_mean: -0.00011572975\n",
      "std_mean: 1.0009499\n"
     ]
    }
   ],
   "source": [
    "!python plot_ce.py --dataset AWA2 --dataset_path \"mat/\""
   ]
  },
  {
   "cell_type": "code",
   "execution_count": 16,
   "metadata": {},
   "outputs": [
    {
     "name": "stdout",
     "output_type": "stream",
     "text": [
      "Number of overlapping classes between train and val: 0\n",
      "Number of overlapping classes between trainval and test: 0\n",
      "(2048, 29830)\n",
      "[0.48007786 0.4247491  0.4622391  ... 0.3193702  0.36307108 0.32061854]\n",
      "[0.68957955 0.6116499  0.7266084  ... 0.54295665 0.6507313  0.5713317 ]\n",
      "(150,)\n",
      "(150,)\n",
      "(312, 150)\n",
      "ce_mean: -0.000100031895\n",
      "std_mean: 1.0007973\n"
     ]
    }
   ],
   "source": [
    "!python plot_ce.py --dataset CUB --dataset_path \"mat/\""
   ]
  },
  {
   "cell_type": "code",
   "execution_count": 18,
   "metadata": {},
   "outputs": [
    {
     "name": "stdout",
     "output_type": "stream",
     "text": [
      "Number of overlapping classes between train and val: 0\n",
      "Number of overlapping classes between trainval and test: 0\n",
      "(2048, 51455)\n",
      "[0.4772891  0.38970524 0.5603242  ... 0.59345436 0.5410871  0.45232296]\n",
      "[0.8344899  0.7059112  0.78569305 ... 0.8962996  0.7787884  0.83418345]\n",
      "(645,)\n",
      "(645,)\n",
      "(102, 645)\n",
      "ce_mean: -0.00017334454\n",
      "std_mean: 0.9995568\n"
     ]
    }
   ],
   "source": [
    "!python plot_ce.py --dataset SUN --dataset_path \"mat/\""
   ]
  },
  {
   "cell_type": "code",
   "execution_count": 2,
   "metadata": {},
   "outputs": [
    {
     "name": "stdout",
     "output_type": "stream",
     "text": [
      "Number of overlapping classes between train and val: 0\n",
      "Number of overlapping classes between trainval and test: 0\n",
      "(2048, 23527)\n",
      "[0.26940984 0.41718087 0.47071343 ... 0.5145953  0.31918221 0.36623027]\n",
      "[0.5193666  0.68180684 0.73464046 ... 0.90568093 0.64003545 0.61074552]\n",
      "(40,)\n",
      "(40,)\n",
      "(85, 40)\n",
      "ce_mean: 0.07030499164708981\n",
      "std_mean: 0.08242615770453754\n"
     ]
    }
   ],
   "source": [
    "# cada ce\n",
    "!python plot_ce.py --dataset AWA2 --dataset_path \"cada_mat/\""
   ]
  },
  {
   "cell_type": "code",
   "execution_count": 4,
   "metadata": {},
   "outputs": [
    {
     "name": "stdout",
     "output_type": "stream",
     "text": [
      "Number of overlapping classes between train and val: 0\n",
      "Number of overlapping classes between trainval and test: 0\n",
      "(2048, 7057)\n",
      "[0.25873887 0.33668512 0.29599173 ... 0.36262064 0.35124807 0.37916562]\n",
      "[0.49599528 0.58565554 0.5682012  ... 0.64984893 0.65425055 0.67338118]\n",
      "(150,)\n",
      "(150,)\n",
      "(312, 150)\n",
      "ce_mean: 0.027817933642917\n",
      "std_mean: 0.049169465859243026\n"
     ]
    }
   ],
   "source": [
    "\n",
    "!python plot_ce.py --dataset CUB --dataset_path \"cada_mat/\""
   ]
  },
  {
   "cell_type": "code",
   "execution_count": 6,
   "metadata": {},
   "outputs": [
    {
     "name": "stdout",
     "output_type": "stream",
     "text": [
      "Number of overlapping classes between train and val: 0\n",
      "Number of overlapping classes between trainval and test: 0\n",
      "(2048, 10320)\n",
      "[0.41061595 0.46135019 0.49164276 ... 0.60885372 0.40666601 0.51603189]\n",
      "[0.86502257 0.8241114  0.97399346 ... 0.79355724 0.74673315 0.90884199]\n",
      "(645,)\n",
      "(645,)\n",
      "(102, 645)\n",
      "ce_mean: 0.045098157787035034\n",
      "std_mean: 0.08796699263372594\n"
     ]
    }
   ],
   "source": [
    "!python plot_ce.py --dataset SUN --dataset_path \"cada_mat/\""
   ]
  },
  {
   "cell_type": "code",
   "execution_count": null,
   "metadata": {},
   "outputs": [],
   "source": []
  }
 ],
 "metadata": {
  "interpreter": {
   "hash": "117474f38525ca4b323dd7fc3d9a4e0cb03916b74301180fe6e16b66562e9fea"
  },
  "kernelspec": {
   "display_name": "Python 3.9.12 ('pytorch_11_1')",
   "language": "python",
   "name": "python3"
  },
  "language_info": {
   "codemirror_mode": {
    "name": "ipython",
    "version": 3
   },
   "file_extension": ".py",
   "mimetype": "text/x-python",
   "name": "python",
   "nbconvert_exporter": "python",
   "pygments_lexer": "ipython3",
   "version": "3.9.12"
  },
  "orig_nbformat": 4
 },
 "nbformat": 4,
 "nbformat_minor": 2
}
